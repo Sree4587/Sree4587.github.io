{
  "cells": [
    {
      "cell_type": "raw",
      "metadata": {},
      "source": [
        "---\n",
        "title: \"Linear Progression\"\n",
        "date: 2023-11-02\n",
        "output:\n",
        "    quarto::quarto_paper:\n",
        "        toc: true\n",
        "        number_sections: true\n",
        "---"
      ],
      "id": "8b9b3001"
    },
    {
      "cell_type": "markdown",
      "metadata": {},
      "source": [
        "In this blog post, we will showcase a simple linear regression model using a real dataset named the \"Auto Insurance\" dataset. The objective is to illustrate the application of simple linear regression, specifically predicting the total payment for all claims in thousands of currency (y) based on the total number of claims (x) in the dataset.\n",
        "\n",
        "# Importing Libraries\n",
        "\n",
        "In this section, essential libraries for data manipulation, mathematical operations, and visualization are imported.\n"
      ],
      "id": "8ad020bb"
    },
    {
      "cell_type": "code",
      "metadata": {},
      "source": [
        "import pandas as pd\n",
        "import numpy as np\n",
        "import math\n",
        "import matplotlib.pyplot as plt\n",
        "import plotly.express as px"
      ],
      "id": "e851794b",
      "execution_count": null,
      "outputs": []
    },
    {
      "cell_type": "markdown",
      "metadata": {},
      "source": [
        "# Exploring Dataset and Visualization\n",
        "\n",
        "In this section, the \"insurance.csv\" file is loaded into a pandas DataFrame. The exploration of the data is initiated by printing information about the DataFrame, its columns, and the first 10 rows. Additionally, data visualization is performed through the creation of box plots for the 'X' and 'Y' columns, as well as a scatter plot depicting the relationship between 'X' and 'Y'.\n"
      ],
      "id": "9a9e9394"
    },
    {
      "cell_type": "code",
      "metadata": {},
      "source": [
        "data = pd.read_csv('insurance.csv')\n",
        "print(data.columns)\n",
        "data.head(10)"
      ],
      "id": "397dae04",
      "execution_count": null,
      "outputs": []
    },
    {
      "cell_type": "code",
      "metadata": {},
      "source": [
        "fig = px.box(data['X'], points = 'all')\n",
        "fig.update_layout(title = f'Distribution of X',title_x=0.5, yaxis_title= \"Number of Insurance Claims\")\n",
        "fig.show()"
      ],
      "id": "de78df27",
      "execution_count": null,
      "outputs": []
    },
    {
      "cell_type": "code",
      "metadata": {},
      "source": [
        "fig = px.box(data['Y'], points = 'all')\n",
        "fig.update_layout(title = f'Distribution of Y',title_x=0.5, yaxis_title= \"Amount of Insurance Paid\")\n",
        "fig.show()"
      ],
      "id": "3d0a3a9a",
      "execution_count": null,
      "outputs": []
    },
    {
      "cell_type": "code",
      "metadata": {},
      "source": [
        "fig = px.scatter(x = data['X'], y=data['Y'])\n",
        "fig.update_layout(xaxis_title= \"Number of Claims\", yaxis_title=\"Payment in Claims\", height = 500, width = 700)\n",
        "fig.update_xaxes(showline=True, linewidth=2, linecolor='black', mirror=True)\n",
        "fig.update_yaxes(showline=True, linewidth=2, linecolor='black', mirror=True)\n",
        "fig.show()"
      ],
      "id": "fe103449",
      "execution_count": null,
      "outputs": []
    },
    {
      "cell_type": "markdown",
      "metadata": {},
      "source": [
        "# Calculating Statistics, Covariance and Coefficient of Linear Progression\n",
        "\n",
        "In this section, the mean and variance of the 'X' and 'Y' columns are computed and printed. Additionally, the covariance between 'X' and 'Y' is calculated. Subsequently, the coefficients for the linear regression model are computed.\n"
      ],
      "id": "9a2fe222"
    },
    {
      "cell_type": "code",
      "metadata": {},
      "source": [
        "mean_x = np.mean(data['X'])\n",
        "mean_y = np.mean(data['Y'])\n",
        "var_x = np.var(data['X'])\n",
        "var_y = np.var(data['Y'])\n",
        "print('x stats: mean= %.3f   variance= %.3f' % (mean_x, var_x))\n",
        "print('y stats: mean= %.3f   variance= %.3f' % (mean_y, var_y))"
      ],
      "id": "559e47c7",
      "execution_count": null,
      "outputs": []
    },
    {
      "cell_type": "code",
      "metadata": {},
      "source": [
        "def covariance(x, y):\n",
        "    mean_x = np.mean(x)\n",
        "    mean_y = np.mean(y)\n",
        "    covar = 0.0\n",
        "    for i in range(len(x)):\n",
        "        covar += (x[i] - mean_x) * (y[i] - mean_y)\n",
        "    return covar/len(x)\n",
        "covar_xy = covariance(data['X'], data['Y'])\n",
        "print(f'Cov(X,Y): {covar_xy}')"
      ],
      "id": "4af5b7ee",
      "execution_count": null,
      "outputs": []
    },
    {
      "cell_type": "code",
      "metadata": {},
      "source": [
        "b1 = covar_xy / var_x\n",
        "b0 = mean_y - b1 * mean_x\n",
        "\n",
        "print(f'Coefficents:\\n b0: {b0}  b1: {b1} ')"
      ],
      "id": "34e8922f",
      "execution_count": null,
      "outputs": []
    },
    {
      "cell_type": "markdown",
      "metadata": {},
      "source": [
        " # Predicting and Visualizing the Results\n",
        "\n",
        "In this segment, the 'Y' values are predicted using the calculated coefficients, and a plot is generated to visually compare the actual and predicted values. This code effectively executes a simple linear regression on the dataset, aiming to model the relationship between a single feature (independent variable 'X') and a real-valued target (dependent variable 'Y'). \n"
      ],
      "id": "2cc39a5c"
    },
    {
      "cell_type": "code",
      "metadata": {},
      "source": [
        "x = data['X'].values.copy()\n",
        "y_hat = b0 + b1 * x\n",
        "y = data['Y'].values\n",
        "import plotly.graph_objects as go\n",
        "fig = go.Figure()\n",
        "\n",
        "fig.add_trace(go.Scatter(x=data['X'], y=data['Y'], name='train', mode='markers', marker_color='rgba(152, 0, 0, .8)'))\n",
        "fig.add_trace(go.Scatter(x=data['X'], y=y_hat, name='prediction', mode='lines+markers', marker_color='rgba(0, 152, 0, .8)'))\n",
        "\n",
        "fig.update_layout(title_x=0.5, xaxis_title= \"Number of Claims\", yaxis_title=\"Payment in Claims\")\n",
        "fig.update_xaxes(showline=True, linewidth=2, linecolor='black', mirror=True)\n",
        "fig.update_yaxes(showline=True, linewidth=2, linecolor='black', mirror=True)\n",
        "fig.show()"
      ],
      "id": "83d28f09",
      "execution_count": null,
      "outputs": []
    },
    {
      "cell_type": "markdown",
      "metadata": {},
      "source": [
        "# Conclusion\n",
        "The fundamental objective of linear regression is to establish a model representing the relationship between a single feature, denoted as the independent variable 'X,' and a real-valued target, referred to as the dependent variable 'Y.' The underlying assumption is that a linear relationship exists between 'X' and 'Y,' and the model endeavors to identify the optimal fit line that best captures this relationship among the data points. The aim is to create a linear equation that can predict 'Y' based on the values of 'X' with the least amount of error."
      ],
      "id": "3c91138f"
    }
  ],
  "metadata": {
    "kernelspec": {
      "name": "python3",
      "language": "python",
      "display_name": "Python 3 (ipykernel)"
    }
  },
  "nbformat": 4,
  "nbformat_minor": 5
}